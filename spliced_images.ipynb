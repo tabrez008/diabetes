{
 "cells": [
  {
   "cell_type": "code",
   "execution_count": 1,
   "metadata": {
    "collapsed": true
   },
   "outputs": [],
   "source": [
    "import matplotlib.pyplot as plt\n",
    "import numpy as np\n",
    "from scipy.misc import imresize\n",
    "import os"
   ]
  },
  {
   "cell_type": "code",
   "execution_count": 2,
   "metadata": {
    "collapsed": true
   },
   "outputs": [],
   "source": [
    "def rgb2gray(rgb):\n",
    "    return np.dot(rgb[...,:3], [0.299, 0.587, 0.114])"
   ]
  },
  {
   "cell_type": "code",
   "execution_count": null,
   "metadata": {
    "collapsed": true
   },
   "outputs": [],
   "source": [
    "path = \"MICC-F2000\"\n",
    "imgs =[]\n",
    "labels =[]\n",
    "for file in os.listdir(path):\n",
    "    if '.jpg' not in file:\n",
    "        continue\n",
    "    img = plt.imread(os.path.join(path,file))\n",
    "    img = imresize(img,(50,50))\n",
    "    img = rgb2gray(img)\n",
    "    imgs.append(img)\n",
    "    if 'tamp' in file:\n",
    "        labels.append(1)\n",
    "    else:\n",
    "        labels.append(0)\n",
    "        \n",
    "imgs = np.array(imgs)\n",
    "labels = np.array(labels)"
   ]
  },
  {
   "cell_type": "code",
   "execution_count": null,
   "metadata": {
    "collapsed": true
   },
   "outputs": [],
   "source": [
    "from six.moves import cPickle\n",
    "f = open('MICC-F2000_imgs.save', 'wb')\n",
    "cPickle.dump(imgs, f, protocol=cPickle.HIGHEST_PROTOCOL)\n",
    "f.close()"
   ]
  },
  {
   "cell_type": "code",
   "execution_count": null,
   "metadata": {
    "collapsed": true
   },
   "outputs": [],
   "source": [
    "f = open('MICC-F2000_labels.save', 'wb')\n",
    "cPickle.dump(labels, f, protocol=cPickle.HIGHEST_PROTOCOL)\n",
    "f.close()"
   ]
  },
  {
   "cell_type": "markdown",
   "metadata": {},
   "source": []
  },
  {
   "cell_type": "code",
   "execution_count": 11,
   "metadata": {
    "collapsed": false
   },
   "outputs": [
    {
     "name": "stdout",
     "output_type": "stream",
     "text": [
      "(220, 50, 50)\n",
      "(220,)\n"
     ]
    }
   ],
   "source": [
    "path = \"MICC-F220\"\n",
    "imgs1 =[]\n",
    "labels1 =[]\n",
    "for file in os.listdir(path):\n",
    "    if '.jpg' not in file:\n",
    "        continue\n",
    "    img = plt.imread(os.path.join(path,file))\n",
    "    img = imresize(img,(50,50))\n",
    "    img = rgb2gray(img)\n",
    "    imgs1.append(img)\n",
    "    if 'tamp' in file:\n",
    "        labels1.append(1)\n",
    "    else:\n",
    "        labels1.append(0)\n",
    "\n",
    "imgs1 = np.array(imgs1)\n",
    "labels1 = np.array(labels1)\n",
    "print(imgs1.shape)\n",
    "print(labels1.shape)"
   ]
  },
  {
   "cell_type": "code",
   "execution_count": 16,
   "metadata": {
    "collapsed": true
   },
   "outputs": [],
   "source": [
    "f = open('MICC-F220_imgs.save', 'wb')\n",
    "cPickle.dump(imgs1, f, protocol=cPickle.HIGHEST_PROTOCOL)\n",
    "f.close()"
   ]
  },
  {
   "cell_type": "code",
   "execution_count": 17,
   "metadata": {
    "collapsed": true
   },
   "outputs": [],
   "source": [
    "f = open('MICC-F220_labels.save', 'wb')\n",
    "cPickle.dump(labels1, f, protocol=cPickle.HIGHEST_PROTOCOL)\n",
    "f.close()"
   ]
  },
  {
   "cell_type": "code",
   "execution_count": 14,
   "metadata": {
    "collapsed": false
   },
   "outputs": [
    {
     "name": "stdout",
     "output_type": "stream",
     "text": [
      "(2448, 3264, 3)\n"
     ]
    }
   ],
   "source": [
    "img = plt.imread('1.png')\n",
    "plt.imshow(img)\n",
    "print(img.shape)"
   ]
  },
  {
   "cell_type": "code",
   "execution_count": null,
   "metadata": {
    "collapsed": true
   },
   "outputs": [],
   "source": []
  },
  {
   "cell_type": "code",
   "execution_count": null,
   "metadata": {
    "collapsed": true
   },
   "outputs": [],
   "source": []
  },
  {
   "cell_type": "code",
   "execution_count": 19,
   "metadata": {
    "collapsed": false
   },
   "outputs": [
    {
     "name": "stdout",
     "output_type": "stream",
     "text": [
      "(600, 50, 50)\n",
      "(600,)\n"
     ]
    }
   ],
   "source": [
    "path = \"MICC_F600\"\n",
    "imgs2 =[]\n",
    "labels2 =[]\n",
    "for file in os.listdir(path):\n",
    "    if '.txt' in file or 'gt' in file:\n",
    "        continue\n",
    "    img = plt.imread(os.path.join(path,file))\n",
    "    img = imresize(img,(50,50))\n",
    "    img = rgb2gray(img)\n",
    "    imgs2.append(img)\n",
    "    if '.jpg' in file:\n",
    "        labels2.append(0)\n",
    "    else:\n",
    "        labels2.append(1)\n",
    "\n",
    "imgs2 = np.array(imgs2)\n",
    "labels2 = np.array(labels2)\n",
    "print(imgs2.shape)\n",
    "print(labels2.shape)"
   ]
  },
  {
   "cell_type": "code",
   "execution_count": 20,
   "metadata": {
    "collapsed": true
   },
   "outputs": [],
   "source": [
    "f = open('MICC_F600_imgs.save', 'wb')\n",
    "cPickle.dump(imgs2, f, protocol=cPickle.HIGHEST_PROTOCOL)\n",
    "f.close()"
   ]
  },
  {
   "cell_type": "code",
   "execution_count": 21,
   "metadata": {
    "collapsed": true
   },
   "outputs": [],
   "source": [
    "f = open('MICC_F600_labels.save', 'wb')\n",
    "cPickle.dump(labels2, f, protocol=cPickle.HIGHEST_PROTOCOL)\n",
    "f.close()"
   ]
  },
  {
   "cell_type": "code",
   "execution_count": 26,
   "metadata": {
    "collapsed": false
   },
   "outputs": [
    {
     "name": "stdout",
     "output_type": "stream",
     "text": [
      "(2820, 50, 50)\n"
     ]
    }
   ],
   "source": [
    "total_images = np.concatenate((imgs,imgs1,imgs2),axis=0)\n",
    "print(total_images.shape)"
   ]
  },
  {
   "cell_type": "code",
   "execution_count": 27,
   "metadata": {
    "collapsed": false
   },
   "outputs": [
    {
     "name": "stdout",
     "output_type": "stream",
     "text": [
      "(2820,)\n"
     ]
    }
   ],
   "source": [
    "total_labels = np.concatenate((labels,labels1,labels2) , axis=0)\n",
    "print(total_labels.shape)"
   ]
  },
  {
   "cell_type": "code",
   "execution_count": 28,
   "metadata": {
    "collapsed": true
   },
   "outputs": [],
   "source": [
    "f = open('imgs.save', 'wb')\n",
    "cPickle.dump(total_images, f, protocol=cPickle.HIGHEST_PROTOCOL)\n",
    "f.close()"
   ]
  },
  {
   "cell_type": "code",
   "execution_count": 29,
   "metadata": {
    "collapsed": true
   },
   "outputs": [],
   "source": [
    "f = open('labels.save', 'wb')\n",
    "cPickle.dump(total_labels, f, protocol=cPickle.HIGHEST_PROTOCOL)\n",
    "f.close()"
   ]
  },
  {
   "cell_type": "code",
   "execution_count": null,
   "metadata": {
    "collapsed": true
   },
   "outputs": [],
   "source": []
  },
  {
   "cell_type": "code",
   "execution_count": 9,
   "metadata": {
    "collapsed": false
   },
   "outputs": [],
   "source": [
    "from six.moves import cPickle\n",
    "f = open('imgs.save', 'rb')\n",
    "total_images = cPickle.load(f)\n",
    "f.close()"
   ]
  },
  {
   "cell_type": "code",
   "execution_count": 13,
   "metadata": {
    "collapsed": false
   },
   "outputs": [],
   "source": [
    "f = open('labels.save', 'rb')\n",
    "labels = cPickle.load(f)\n",
    "f.close()"
   ]
  },
  {
   "cell_type": "code",
   "execution_count": null,
   "metadata": {
    "collapsed": true
   },
   "outputs": [],
   "source": []
  },
  {
   "cell_type": "code",
   "execution_count": 10,
   "metadata": {
    "collapsed": false
   },
   "outputs": [
    {
     "name": "stdout",
     "output_type": "stream",
     "text": [
      "(2820, 2500)\n"
     ]
    }
   ],
   "source": [
    "temp=[]\n",
    "for i in total_images:\n",
    "    temp.append(i.flatten())\n",
    "\n",
    "imgs = np.array(temp)\n",
    "print(imgs.shape)"
   ]
  },
  {
   "cell_type": "code",
   "execution_count": 11,
   "metadata": {
    "collapsed": false,
    "scrolled": true
   },
   "outputs": [
    {
     "name": "stderr",
     "output_type": "stream",
     "text": [
      "C:\\Users\\new\\Anaconda2\\envs\\py35\\lib\\site-packages\\sklearn\\cross_validation.py:44: DeprecationWarning: This module was deprecated in version 0.18 in favor of the model_selection module into which all the refactored classes and functions are moved. Also note that the interface of the new CV iterators are different from that of this module. This module will be removed in 0.20.\n",
      "  \"This module will be removed in 0.20.\", DeprecationWarning)\n"
     ]
    }
   ],
   "source": [
    "from sklearn.cross_validation import train_test_split"
   ]
  },
  {
   "cell_type": "code",
   "execution_count": 14,
   "metadata": {
    "collapsed": false
   },
   "outputs": [],
   "source": [
    "images_train , images_test , labels_train , labels_test = train_test_split(imgs,labels,test_size = 0.1, random_state=10)"
   ]
  },
  {
   "cell_type": "code",
   "execution_count": 22,
   "metadata": {
    "collapsed": false
   },
   "outputs": [],
   "source": [
    "import keras\n",
    "from keras.models import Sequential\n",
    "from keras.layers import Dense, Dropout, Activation, Flatten\n",
    "from keras.layers import Convolution2D, MaxPooling2D\n",
    "from keras.utils import np_utils\n",
    "from keras.optimizers import Adagrad\n",
    "from keras.layers.normalization import BatchNormalization\n",
    "import tensorflow as tf"
   ]
  },
  {
   "cell_type": "code",
   "execution_count": 16,
   "metadata": {
    "collapsed": true
   },
   "outputs": [],
   "source": [
    "images_train = images_train.reshape(images_train.shape[0], 50, 50, 1)\n",
    "images_test = images_test.reshape(images_test.shape[0], 50, 50 ,1)"
   ]
  },
  {
   "cell_type": "code",
   "execution_count": 17,
   "metadata": {
    "collapsed": true
   },
   "outputs": [],
   "source": [
    "images_train = images_train.astype('float32')\n",
    "images_test = images_test.astype('float32')\n",
    "labels_train = labels_train.astype('float32')\n",
    "labels_test = labels_test.astype('float32')\n"
   ]
  },
  {
   "cell_type": "code",
   "execution_count": 37,
   "metadata": {
    "collapsed": true
   },
   "outputs": [],
   "source": [
    "model = Sequential()\n",
    " \n",
    "model.add(Convolution2D(32, 3, 3, init = 'uniform', input_shape=(50,50,1)))\n",
    "model.add(BatchNormalization())\n",
    "model.add(Activation('relu'))\n",
    "model.add(Convolution2D(16, 3, 3, activation='relu'))\n",
    "model.add(MaxPooling2D(pool_size=(2,2)))\n",
    "model.add(Dropout(0.25))\n",
    " \n",
    "\n",
    "model.add(Flatten())\n",
    "\n",
    "model.add(Dense(32, init='uniform'))\n",
    "model.add(BatchNormalization())\n",
    "model.add(Activation('relu'))\n",
    "\n",
    "model.add(Dense(16, init='uniform'))\n",
    "model.add(BatchNormalization())\n",
    "model.add(Activation('relu'))\n",
    "\n",
    "model.add(Dense(8, init='uniform'))\n",
    "model.add(BatchNormalization())\n",
    "model.add(Activation('relu'))\n",
    "\n",
    "\n",
    "model.add(Dense(1, activation='sigmoid'))\n",
    "\n",
    "\n",
    "learning_rate=0.001\n",
    "# Compile model\n",
    "momentum = 0.8\n",
    "epochs = 50\n",
    "#keras.optimizers\n",
    "decay_rate = learning_rate / epochs\n",
    "sgd = Adagrad(lr=learning_rate,  decay=decay_rate)\n",
    "model.compile(loss='mean_squared_error', optimizer=sgd, metrics=['accuracy'])\n",
    "\n",
    "\n"
   ]
  },
  {
   "cell_type": "code",
   "execution_count": 38,
   "metadata": {
    "collapsed": false
   },
   "outputs": [
    {
     "name": "stdout",
     "output_type": "stream",
     "text": [
      "Train on 2284 samples, validate on 254 samples\n",
      "Epoch 1/50\n",
      "92s - loss: 0.1989 - acc: 0.7045 - val_loss: 0.2449 - val_acc: 0.6654\n",
      "Epoch 2/50\n",
      "100s - loss: 0.1484 - acc: 0.8100 - val_loss: 0.2371 - val_acc: 0.7638\n",
      "Epoch 3/50\n",
      "108s - loss: 0.1242 - acc: 0.8485 - val_loss: 0.2252 - val_acc: 0.8858\n",
      "Epoch 4/50\n",
      "105s - loss: 0.1128 - acc: 0.8599 - val_loss: 0.2018 - val_acc: 0.9016\n",
      "Epoch 5/50\n",
      "103s - loss: 0.0972 - acc: 0.8962 - val_loss: 0.1685 - val_acc: 0.9055\n",
      "Epoch 6/50\n",
      "110s - loss: 0.0911 - acc: 0.9089 - val_loss: 0.1324 - val_acc: 0.9213\n",
      "Epoch 7/50\n",
      "112s - loss: 0.0855 - acc: 0.9129 - val_loss: 0.0999 - val_acc: 0.9291\n",
      "Epoch 8/50\n",
      "117s - loss: 0.0802 - acc: 0.9282 - val_loss: 0.0859 - val_acc: 0.9291\n",
      "Epoch 9/50\n",
      "114s - loss: 0.0767 - acc: 0.9247 - val_loss: 0.0752 - val_acc: 0.9409\n",
      "Epoch 10/50\n",
      "116s - loss: 0.0715 - acc: 0.9378 - val_loss: 0.0697 - val_acc: 0.9409\n",
      "Epoch 11/50\n",
      "121s - loss: 0.0728 - acc: 0.9335 - val_loss: 0.0655 - val_acc: 0.9409\n",
      "Epoch 12/50\n",
      "119s - loss: 0.0680 - acc: 0.9405 - val_loss: 0.0634 - val_acc: 0.9449\n",
      "Epoch 13/50\n",
      "116s - loss: 0.0646 - acc: 0.9444 - val_loss: 0.0629 - val_acc: 0.9409\n",
      "Epoch 14/50\n",
      "117s - loss: 0.0635 - acc: 0.9479 - val_loss: 0.0630 - val_acc: 0.9409\n",
      "Epoch 15/50\n",
      "108s - loss: 0.0599 - acc: 0.9496 - val_loss: 0.0595 - val_acc: 0.9409\n",
      "Epoch 16/50\n",
      "99s - loss: 0.0604 - acc: 0.9527 - val_loss: 0.0579 - val_acc: 0.9449\n",
      "Epoch 17/50\n",
      "101s - loss: 0.0593 - acc: 0.9479 - val_loss: 0.0584 - val_acc: 0.9409\n",
      "Epoch 18/50\n",
      "102s - loss: 0.0557 - acc: 0.9536 - val_loss: 0.0563 - val_acc: 0.9488\n",
      "Epoch 19/50\n",
      "106s - loss: 0.0568 - acc: 0.9536 - val_loss: 0.0570 - val_acc: 0.9449\n",
      "Epoch 20/50\n",
      "111s - loss: 0.0521 - acc: 0.9615 - val_loss: 0.0553 - val_acc: 0.9449\n",
      "Epoch 21/50\n",
      "122s - loss: 0.0539 - acc: 0.9567 - val_loss: 0.0545 - val_acc: 0.9449\n",
      "Epoch 22/50\n",
      "107s - loss: 0.0483 - acc: 0.9641 - val_loss: 0.0544 - val_acc: 0.9488\n",
      "Epoch 23/50\n",
      "100s - loss: 0.0487 - acc: 0.9615 - val_loss: 0.0546 - val_acc: 0.9488\n",
      "Epoch 24/50\n",
      "97s - loss: 0.0492 - acc: 0.9632 - val_loss: 0.0545 - val_acc: 0.9449\n",
      "Epoch 25/50\n",
      "99s - loss: 0.0486 - acc: 0.9615 - val_loss: 0.0527 - val_acc: 0.9488\n",
      "Epoch 26/50\n",
      "99s - loss: 0.0494 - acc: 0.9615 - val_loss: 0.0540 - val_acc: 0.9409\n",
      "Epoch 27/50\n",
      "119s - loss: 0.0474 - acc: 0.9615 - val_loss: 0.0536 - val_acc: 0.9449\n",
      "Epoch 28/50\n",
      "119s - loss: 0.0491 - acc: 0.9623 - val_loss: 0.0532 - val_acc: 0.9488\n",
      "Epoch 29/50\n",
      "119s - loss: 0.0493 - acc: 0.9628 - val_loss: 0.0521 - val_acc: 0.9488\n",
      "Epoch 30/50\n",
      "117s - loss: 0.0450 - acc: 0.9619 - val_loss: 0.0549 - val_acc: 0.9409\n",
      "Epoch 31/50\n",
      "118s - loss: 0.0438 - acc: 0.9667 - val_loss: 0.0535 - val_acc: 0.9488\n",
      "Epoch 32/50\n",
      "117s - loss: 0.0458 - acc: 0.9637 - val_loss: 0.0532 - val_acc: 0.9528\n",
      "Epoch 33/50\n",
      "115s - loss: 0.0450 - acc: 0.9641 - val_loss: 0.0529 - val_acc: 0.9488\n",
      "Epoch 34/50\n",
      "119s - loss: 0.0447 - acc: 0.9628 - val_loss: 0.0517 - val_acc: 0.9488\n",
      "Epoch 35/50\n",
      "116s - loss: 0.0432 - acc: 0.9667 - val_loss: 0.0511 - val_acc: 0.9488\n",
      "Epoch 36/50\n",
      "115s - loss: 0.0442 - acc: 0.9628 - val_loss: 0.0517 - val_acc: 0.9488\n",
      "Epoch 37/50\n",
      "116s - loss: 0.0432 - acc: 0.9676 - val_loss: 0.0510 - val_acc: 0.9488\n",
      "Epoch 38/50\n",
      "115s - loss: 0.0440 - acc: 0.9628 - val_loss: 0.0514 - val_acc: 0.9488\n",
      "Epoch 39/50\n",
      "116s - loss: 0.0413 - acc: 0.9680 - val_loss: 0.0527 - val_acc: 0.9488\n",
      "Epoch 40/50\n",
      "116s - loss: 0.0424 - acc: 0.9632 - val_loss: 0.0516 - val_acc: 0.9528\n",
      "Epoch 41/50\n",
      "117s - loss: 0.0439 - acc: 0.9650 - val_loss: 0.0510 - val_acc: 0.9488\n",
      "Epoch 42/50\n",
      "120s - loss: 0.0406 - acc: 0.9667 - val_loss: 0.0515 - val_acc: 0.9528\n",
      "Epoch 43/50\n",
      "124s - loss: 0.0419 - acc: 0.9663 - val_loss: 0.0498 - val_acc: 0.9528\n",
      "Epoch 44/50\n",
      "119s - loss: 0.0397 - acc: 0.9685 - val_loss: 0.0502 - val_acc: 0.9488\n",
      "Epoch 45/50\n",
      "100s - loss: 0.0406 - acc: 0.9694 - val_loss: 0.0501 - val_acc: 0.9488\n",
      "Epoch 46/50\n",
      "99s - loss: 0.0396 - acc: 0.9667 - val_loss: 0.0507 - val_acc: 0.9488\n",
      "Epoch 47/50\n",
      "100s - loss: 0.0386 - acc: 0.9698 - val_loss: 0.0506 - val_acc: 0.9488\n",
      "Epoch 48/50\n",
      "102s - loss: 0.0403 - acc: 0.9685 - val_loss: 0.0500 - val_acc: 0.9528\n",
      "Epoch 49/50\n",
      "104s - loss: 0.0396 - acc: 0.9685 - val_loss: 0.0497 - val_acc: 0.9528\n",
      "Epoch 50/50\n",
      "99s - loss: 0.0398 - acc: 0.9680 - val_loss: 0.0505 - val_acc: 0.9488\n"
     ]
    },
    {
     "data": {
      "text/plain": [
       "<keras.callbacks.History at 0x2556096b470>"
      ]
     },
     "execution_count": 38,
     "metadata": {},
     "output_type": "execute_result"
    }
   ],
   "source": [
    "model.fit(images_train,labels_train, nb_epoch=epochs, verbose=2 , validation_split=0.1)"
   ]
  },
  {
   "cell_type": "code",
   "execution_count": 39,
   "metadata": {
    "collapsed": false
   },
   "outputs": [
    {
     "name": "stdout",
     "output_type": "stream",
     "text": [
      "282/282 [==============================] - 11s    \n",
      "\n",
      "acc: 95.74%\n"
     ]
    }
   ],
   "source": [
    "scores = model.evaluate(images_test, labels_test)\n",
    "print(\"\\n%s: %.2f%%\" % (model.metrics_names[1], scores[1]*100))"
   ]
  },
  {
   "cell_type": "code",
   "execution_count": 40,
   "metadata": {
    "collapsed": false
   },
   "outputs": [
    {
     "name": "stdout",
     "output_type": "stream",
     "text": [
      "Saved model to disk\n"
     ]
    }
   ],
   "source": [
    "# serialize model to JSON\n",
    "model_json = model.to_json()\n",
    "with open(\"final_model.json\", \"w\") as json_file:\n",
    "    json_file.write(model_json)\n",
    "# serialize weights to HDF5\n",
    "model.save_weights(\"final_model.h5\")\n",
    "print(\"Saved model to disk\")"
   ]
  },
  {
   "cell_type": "code",
   "execution_count": 34,
   "metadata": {
    "collapsed": false
   },
   "outputs": [
    {
     "name": "stdout",
     "output_type": "stream",
     "text": [
      "Loaded model from disk\n",
      "Model compiled\n"
     ]
    }
   ],
   "source": [
    "from keras.models import model_from_json\n",
    "# load json and create model\n",
    "json_file = open('final_model.json', 'r')\n",
    "loaded_model_json = json_file.read()\n",
    "json_file.close()\n",
    "loaded_model = model_from_json(loaded_model_json)\n",
    "# load weights into new model\n",
    "loaded_model.load_weights(\"final_model.h5\")\n",
    "print(\"Loaded model from disk\")\n",
    "\n",
    "#compiling model\n",
    "learning_rate=0.001\n",
    "# Compile model\n",
    "momentum = 0.8\n",
    "epochs = 50\n",
    "#keras.optimizers\n",
    "decay_rate = learning_rate / epochs\n",
    "sgd = Adagrad(lr=learning_rate,  decay=decay_rate)\n",
    "loaded_model.compile(loss='mean_squared_error', optimizer=sgd, metrics=['accuracy','precision','recall','fbeta_score'])\n",
    "print(\"Model compiled\")"
   ]
  },
  {
   "cell_type": "code",
   "execution_count": 31,
   "metadata": {
    "collapsed": false
   },
   "outputs": [
    {
     "name": "stdout",
     "output_type": "stream",
     "text": [
      "282/282 [==============================] - 3s     \n",
      "\n",
      "acc: 95.74%\n",
      "\n",
      "precision: 90.35%\n",
      "\n",
      "recall: 98.16%\n",
      "\n",
      "fbeta_score: 93.79%\n"
     ]
    }
   ],
   "source": [
    "scores = loaded_model.evaluate(images_test, labels_test)\n",
    "print(\"\\n%s: %.2f%%\" % (loaded_model.metrics_names[1], scores[1]*100))\n",
    "print(\"\\n%s: %.2f%%\" % (loaded_model.metrics_names[2], scores[2]*100))\n",
    "print(\"\\n%s: %.2f%%\" % (loaded_model.metrics_names[3], scores[3]*100))\n",
    "print(\"\\n%s: %.2f%%\" % (loaded_model.metrics_names[4], scores[4]*100))"
   ]
  },
  {
   "cell_type": "code",
   "execution_count": 35,
   "metadata": {
    "collapsed": true
   },
   "outputs": [],
   "source": [
    "from sklearn.metrics import roc_curve, auc"
   ]
  },
  {
   "cell_type": "code",
   "execution_count": 44,
   "metadata": {
    "collapsed": false
   },
   "outputs": [],
   "source": [
    "def generate_results(y_test, y_score):\n",
    "    fpr, tpr, _ = roc_curve(y_test, y_score)\n",
    "    roc_auc = auc(fpr, tpr)\n",
    "    plt.figure()\n",
    "    plt.plot(fpr, tpr, 'r',label='ROC curve (area = %0.2f)' % roc_auc)\n",
    "    plt.plot([0, 1], [0, 1], 'k--')\n",
    "    plt.xlim([0.0, 1.05])\n",
    "    plt.ylim([0.0, 1.05])\n",
    "    plt.xlabel('False Positive Rate')\n",
    "    plt.ylabel('True Positive Rate')\n",
    "    plt.title('Receiver operating characteristic curve')\n",
    "    plt.show()"
   ]
  },
  {
   "cell_type": "code",
   "execution_count": 45,
   "metadata": {
    "collapsed": false
   },
   "outputs": [
    {
     "name": "stdout",
     "output_type": "stream",
     "text": [
      "Generating results\n"
     ]
    },
    {
     "data": {
      "image/png": "[encoded data removed]",
      "text/plain": [
       "<matplotlib.figure.Figure at 0x1ff173405f8>"
      ]
     },
     "metadata": {},
     "output_type": "display_data"
    }
   ],
   "source": [
    "labels_pred = loaded_model.predict(images_test)\n",
    "\n",
    "print('Generating results')\n",
    "generate_results(labels_test, labels_pred[:, 0])"
   ]
  },
  {
   "cell_type": "code",
   "execution_count": null,
   "metadata": {
    "collapsed": true
   },
   "outputs": [],
   "source": []
  }
 ],
 "metadata": {
  "anaconda-cloud": {},
  "kernelspec": {
   "display_name": "Python [py35]",
   "language": "python",
   "name": "Python [py35]"
  },
  "language_info": {
   "codemirror_mode": {
    "name": "ipython",
    "version": 3
   },
   "file_extension": ".py",
   "mimetype": "text/x-python",
   "name": "python",
   "nbconvert_exporter": "python",
   "pygments_lexer": "ipython3",
   "version": "3.5.2"
  }
 },
 "nbformat": 4,
 "nbformat_minor": 0
}
